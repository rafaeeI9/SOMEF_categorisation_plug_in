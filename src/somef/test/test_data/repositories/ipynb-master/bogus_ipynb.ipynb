# This is not a real ipynb file!
# THIS IS BOGUS BWAHAHA
